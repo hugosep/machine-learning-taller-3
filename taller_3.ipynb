{
  "nbformat": 4,
  "nbformat_minor": 0,
  "metadata": {
    "kernelspec": {
      "display_name": "Python 3",
      "language": "python",
      "name": "python3"
    },
    "language_info": {
      "codemirror_mode": {
        "name": "ipython",
        "version": 3
      },
      "file_extension": ".py",
      "mimetype": "text/x-python",
      "name": "python",
      "nbconvert_exporter": "python",
      "pygments_lexer": "ipython3",
      "version": "3.8.5"
    },
    "colab": {
      "name": "taller-3.ipynb",
      "provenance": [],
      "collapsed_sections": [],
      "toc_visible": true
    }
  },
  "cells": [
    {
      "cell_type": "markdown",
      "metadata": {
        "id": "XjP3DC1rYKsR"
      },
      "source": [
        "## Importar bibliotecas"
      ]
    },
    {
      "cell_type": "code",
      "metadata": {
        "id": "SVs5zvMJ8Vqv"
      },
      "source": [
        "import pandas as pd\n",
        "import numpy as np\n",
        "from sklearn.model_selection import train_test_split\n",
        "import matplotlib.pyplot as plt\n",
        "import seaborn as sns; sns.set()"
      ],
      "execution_count": null,
      "outputs": []
    },
    {
      "cell_type": "markdown",
      "metadata": {
        "id": "UksZQ_-AYUYy"
      },
      "source": [
        "## Carga dataset"
      ]
    },
    {
      "cell_type": "code",
      "metadata": {
        "colab": {
          "base_uri": "https://localhost:8080/"
        },
        "id": "1hqeruTD8Vq8",
        "outputId": "7e8a0378-40b5-4943-aae6-d9503a12b2b1"
      },
      "source": [
        "data = pd.read_csv('sample_data/chile.csv')\n",
        "print(data.columns)"
      ],
      "execution_count": null,
      "outputs": [
        {
          "output_type": "stream",
          "text": [
            "Index(['data_id', 'iso', 'event_id_cnty', 'event_id_no_cnty', 'event_date',\n",
            "       'year', 'time_precision', 'event_type', 'sub_event_type', 'actor1',\n",
            "       'assoc_actor_1', 'inter1', 'actor2', 'assoc_actor_2', 'inter2',\n",
            "       'interaction', 'region', 'country', 'admin1', 'admin2', 'admin3',\n",
            "       'location', 'latitude', 'longitude', 'geo_precision', 'source',\n",
            "       'source_scale', 'notes', 'fatalities', 'timestamp', 'iso3'],\n",
            "      dtype='object')\n"
          ],
          "name": "stdout"
        }
      ]
    },
    {
      "cell_type": "markdown",
      "metadata": {
        "id": "uzc4REbfYaHh"
      },
      "source": [
        "## Análisis exploratorio"
      ]
    },
    {
      "cell_type": "code",
      "metadata": {
        "colab": {
          "base_uri": "https://localhost:8080/"
        },
        "id": "SShSsiik8VrB",
        "outputId": "1a0b571e-8396-4d0e-bb39-530320ddc9cc"
      },
      "source": [
        "for column in data.columns:\n",
        "    print(column, \":\", len(data[column].unique()))"
      ],
      "execution_count": null,
      "outputs": [
        {
          "output_type": "stream",
          "text": [
            "data_id : 6493\n",
            "iso : 1\n",
            "event_id_cnty : 6493\n",
            "event_id_no_cnty : 6493\n",
            "event_date : 971\n",
            "year : 3\n",
            "time_precision : 3\n",
            "event_type : 6\n",
            "sub_event_type : 16\n",
            "actor1 : 38\n",
            "assoc_actor_1 : 248\n",
            "inter1 : 7\n",
            "actor2 : 20\n",
            "assoc_actor_2 : 111\n",
            "inter2 : 8\n",
            "interaction : 26\n",
            "region : 1\n",
            "country : 1\n",
            "admin1 : 17\n",
            "admin2 : 54\n",
            "admin3 : 243\n",
            "location : 371\n",
            "latitude : 371\n",
            "longitude : 367\n",
            "geo_precision : 3\n",
            "source : 307\n",
            "source_scale : 13\n",
            "notes : 6491\n",
            "fatalities : 5\n",
            "timestamp : 199\n",
            "iso3 : 1\n"
          ],
          "name": "stdout"
        }
      ]
    },
    {
      "cell_type": "code",
      "metadata": {
        "colab": {
          "base_uri": "https://localhost:8080/"
        },
        "id": "_os9RRq78VrD",
        "outputId": "ff9e91d3-8a62-4b08-f934-75e70b54c4b9"
      },
      "source": [
        "data = data.drop(['data_id','iso', \"event_id_cnty\", \"event_id_no_cnty\", \"iso3\", \"country\", \"region\"], axis=1)\n",
        "print(len(data.columns))\n",
        "print(data.columns)"
      ],
      "execution_count": null,
      "outputs": [
        {
          "output_type": "stream",
          "text": [
            "24\n",
            "Index(['event_date', 'year', 'time_precision', 'event_type', 'sub_event_type',\n",
            "       'actor1', 'assoc_actor_1', 'inter1', 'actor2', 'assoc_actor_2',\n",
            "       'inter2', 'interaction', 'admin1', 'admin2', 'admin3', 'location',\n",
            "       'latitude', 'longitude', 'geo_precision', 'source', 'source_scale',\n",
            "       'notes', 'fatalities', 'timestamp'],\n",
            "      dtype='object')\n"
          ],
          "name": "stdout"
        }
      ]
    },
    {
      "cell_type": "code",
      "metadata": {
        "colab": {
          "base_uri": "https://localhost:8080/",
          "height": 481
        },
        "id": "fsdHflM38VrE",
        "outputId": "0e10c54b-c093-4805-8801-62eea0a8719e"
      },
      "source": [
        "gr = data.groupby(['year']).size().reset_index(name='counts')\n",
        "fig, ax = plt.subplots(figsize=(10, 7),nrows=1)\n",
        "sns.barplot(data=gr, x='year', y='counts', palette=\"Blues_d\",ax=ax)\n",
        "ax.set_title('Violaciones DDHH por región')\n",
        "plt.show()\n",
        "print(\"\")"
      ],
      "execution_count": null,
      "outputs": [
        {
          "output_type": "display_data",
          "data": {
            "image/png": "[encoded data removed]",
            "text/plain": [
              "<Figure size 720x504 with 1 Axes>"
            ]
          },
          "metadata": {
            "tags": []
          }
        },
        {
          "output_type": "stream",
          "text": [
            "\n"
          ],
          "name": "stdout"
        }
      ]
    },
    {
      "cell_type": "code",
      "metadata": {
        "id": "MYHJ5hkZ8VrG",
        "colab": {
          "base_uri": "https://localhost:8080/"
        },
        "outputId": "0f366e6d-6e8e-4e1b-e8b3-d7907778f72e"
      },
      "source": [
        "from tensorflow import convert_to_tensor\n",
        "from sklearn import preprocessing\n",
        "from keras.utils import to_categorical\n",
        "from sklearn.preprocessing import LabelEncoder, OrdinalEncoder, OneHotEncoder\n",
        "\n",
        "label_encoders = dict()\n",
        "are_object = list()\n",
        "\n",
        "for column in data.columns:\n",
        "  if str(data[column].dtype) == \"object\":\n",
        "      data[column] = data[column].astype('|S')\n",
        "      are_object.append(column)\n",
        "\n",
        "print(are_object)\n",
        "\n",
        "for is_object in are_object:\n",
        "  label_encoders[is_object] = LabelEncoder()\n",
        "  data[is_object] = label_encoders[is_object].fit_transform(data[is_object])\n",
        "  \n",
        "features = ['event_date', 'year', 'time_precision', 'sub_event_type',\n",
        "       'actor1', 'assoc_actor_1', 'inter1', 'actor2', 'assoc_actor_2',\n",
        "       'inter2', 'interaction', 'admin1', 'admin2', 'admin3',\n",
        "       'latitude', 'longitude', 'geo_precision', 'source', 'source_scale',\n",
        "       'notes', 'fatalities', 'timestamp']\n",
        "\n",
        "predict = [\"location\", \"event_type\"]\n",
        "\n",
        "X = data[features]\n",
        "Y = data[predict]\n",
        "\n",
        "X_train_full, X_test, Y_train_full, Y_test = train_test_split(X, Y, test_size=0.5, random_state=0)\n",
        "X_train, X_val, Y_train, Y_val = train_test_split(X_train_full, Y_train_full, test_size=0.5, random_state=0)"
      ],
      "execution_count": null,
      "outputs": [
        {
          "output_type": "stream",
          "text": [
            "['event_date', 'event_type', 'sub_event_type', 'actor1', 'assoc_actor_1', 'actor2', 'assoc_actor_2', 'admin1', 'admin2', 'admin3', 'location', 'source', 'source_scale', 'notes']\n"
          ],
          "name": "stdout"
        }
      ]
    },
    {
      "cell_type": "code",
      "metadata": {
        "colab": {
          "base_uri": "https://localhost:8080/"
        },
        "id": "4tIraU4QTJw_",
        "outputId": "3b8c0422-9769-45a5-8bde-b3d0bdb09203"
      },
      "source": [
        "data.dtypes"
      ],
      "execution_count": null,
      "outputs": [
        {
          "output_type": "execute_result",
          "data": {
            "text/plain": [
              "event_date          int64\n",
              "year                int64\n",
              "time_precision      int64\n",
              "event_type          int64\n",
              "sub_event_type      int64\n",
              "actor1              int64\n",
              "assoc_actor_1       int64\n",
              "inter1              int64\n",
              "actor2              int64\n",
              "assoc_actor_2       int64\n",
              "inter2              int64\n",
              "interaction         int64\n",
              "admin1              int64\n",
              "admin2              int64\n",
              "admin3              int64\n",
              "location            int64\n",
              "latitude          float64\n",
              "longitude         float64\n",
              "geo_precision       int64\n",
              "source              int64\n",
              "source_scale        int64\n",
              "notes               int64\n",
              "fatalities          int64\n",
              "timestamp           int64\n",
              "dtype: object"
            ]
          },
          "metadata": {
            "tags": []
          },
          "execution_count": 57
        }
      ]
    },
    {
      "cell_type": "code",
      "metadata": {
        "colab": {
          "base_uri": "https://localhost:8080/"
        },
        "id": "d3HDi48c8VrI",
        "outputId": "9712d755-91a8-42b6-d0f0-16a1fc74d19c"
      },
      "source": [
        "from keras.models import Sequential\n",
        "from keras.layers import Dense, Activation\n",
        "from keras.optimizers import SGD, Adam, RMSprop\n",
        "import tensorflow as tf\n",
        "from keras.wrappers.scikit_learn import KerasRegressor\n",
        "\n",
        "def create_model(optimizer='rmsprop', nneuron=14, n_outputs=2):\n",
        "  \n",
        "    model = Sequential()\n",
        "    model.add(Dense(nneuron, input_shape=(X_train.shape[1],), kernel_initializer='normal', activation='relu'))\n",
        "    model.add(Dense(nneuron//2, kernel_initializer='normal', activation='relu'))\n",
        "    model.add(Dense(n_outputs, activation=\"linear\", kernel_initializer='normal'))\n",
        "\n",
        "    if optimizer == \"rmsprop\":\n",
        "      opt = RMSprop()\n",
        "    elif optimizer == \"adam\":\n",
        "      opt = Adam()\n",
        "    elif optimizer == \"SGD\":\n",
        "      opt = SGD()\n",
        "    else:\n",
        "      return \"error\"\n",
        "\n",
        "    model.compile(\n",
        "        loss='mse',\n",
        "        metrics=[tf.keras.metrics.RootMeanSquaredError(),\n",
        "                 tf.keras.metrics.MeanAbsolutePercentageError(), \"accuracy\"],\n",
        "        optimizer=opt)\n",
        "    \n",
        "    return model\n",
        "\n",
        "####################\n",
        "\n",
        "from sklearn.model_selection import GridSearchCV\n",
        "from keras.wrappers.scikit_learn import KerasRegressor\n",
        "\n",
        "model = KerasRegressor(build_fn=create_model, epochs=20, batch_size=5, verbose=0)\n",
        "\n",
        "optimizers = ['rmsprop', 'adam', 'SGD']\n",
        "epochs = [10, 50] #early stopping\n",
        "batches = [5, 10]\n",
        "#nneurons = [6,12,24,48,96] #\n",
        "nneurons = [8, 16, 32, 64]\n",
        "\n",
        "param_grid = dict(optimizer=optimizers, epochs=epochs, batch_size=batches, nneuron=nneurons)\n",
        "grid = GridSearchCV(estimator=model, param_grid=param_grid, cv=10)\n",
        "grid_result = grid.fit(X_train, Y_train)\n",
        "\n",
        "print(\"Best: %f con %s\" % (grid_result.best_score_, grid_result.best_params_))\n",
        "\n",
        "means = grid_result.cv_results_['mean_test_score']\n",
        "stds = grid_result.cv_results_['std_test_score']\n",
        "params = grid_result.cv_results_['params']\n",
        "\n",
        "for mean, stdev, param in zip(means, stds, params):\n",
        "\tprint(\"%f (%f) con: %r\" % (mean, stdev, param))"
      ],
      "execution_count": null,
      "outputs": [
        {
          "output_type": "stream",
          "text": [
            "Best: -23039.342969 con {'batch_size': 5, 'epochs': 50, 'nneuron': 12, 'optimizer': 'rmsprop'}\n",
            "-24902.452734 (1967.958233) con: {'batch_size': 5, 'epochs': 50, 'nneuron': 6, 'optimizer': 'rmsprop'}\n",
            "-67633.830469 (139993.383626) con: {'batch_size': 5, 'epochs': 50, 'nneuron': 6, 'optimizer': 'adam'}\n",
            "nan (nan) con: {'batch_size': 5, 'epochs': 50, 'nneuron': 6, 'optimizer': 'SGD'}\n",
            "-23039.342969 (5391.879130) con: {'batch_size': 5, 'epochs': 50, 'nneuron': 12, 'optimizer': 'rmsprop'}\n",
            "-25821.590234 (6969.544175) con: {'batch_size': 5, 'epochs': 50, 'nneuron': 12, 'optimizer': 'adam'}\n",
            "nan (nan) con: {'batch_size': 5, 'epochs': 50, 'nneuron': 12, 'optimizer': 'SGD'}\n",
            "-24977.639648 (1960.820826) con: {'batch_size': 5, 'epochs': 50, 'nneuron': 24, 'optimizer': 'rmsprop'}\n",
            "-133285.678320 (232670.919627) con: {'batch_size': 5, 'epochs': 50, 'nneuron': 24, 'optimizer': 'adam'}\n",
            "nan (nan) con: {'batch_size': 5, 'epochs': 50, 'nneuron': 24, 'optimizer': 'SGD'}\n",
            "-23573.329053 (5488.257933) con: {'batch_size': 5, 'epochs': 50, 'nneuron': 48, 'optimizer': 'rmsprop'}\n",
            "-1573547.287305 (2021699.718033) con: {'batch_size': 5, 'epochs': 50, 'nneuron': 48, 'optimizer': 'adam'}\n",
            "nan (nan) con: {'batch_size': 5, 'epochs': 50, 'nneuron': 48, 'optimizer': 'SGD'}\n",
            "-25066.707227 (1985.696669) con: {'batch_size': 5, 'epochs': 50, 'nneuron': 96, 'optimizer': 'rmsprop'}\n",
            "-124461098.169971 (370373418.069976) con: {'batch_size': 5, 'epochs': 50, 'nneuron': 96, 'optimizer': 'adam'}\n",
            "nan (nan) con: {'batch_size': 5, 'epochs': 50, 'nneuron': 96, 'optimizer': 'SGD'}\n",
            "-27006.530078 (2079.498057) con: {'batch_size': 5, 'epochs': 10, 'nneuron': 6, 'optimizer': 'rmsprop'}\n",
            "-25047.014453 (10831.385885) con: {'batch_size': 5, 'epochs': 10, 'nneuron': 6, 'optimizer': 'adam'}\n",
            "nan (nan) con: {'batch_size': 5, 'epochs': 10, 'nneuron': 6, 'optimizer': 'SGD'}\n",
            "-27012.305859 (2217.886076) con: {'batch_size': 5, 'epochs': 10, 'nneuron': 12, 'optimizer': 'rmsprop'}\n",
            "-253529.484131 (678490.285088) con: {'batch_size': 5, 'epochs': 10, 'nneuron': 12, 'optimizer': 'adam'}\n",
            "nan (nan) con: {'batch_size': 5, 'epochs': 10, 'nneuron': 12, 'optimizer': 'SGD'}\n",
            "-27184.228711 (2163.120143) con: {'batch_size': 5, 'epochs': 10, 'nneuron': 24, 'optimizer': 'rmsprop'}\n",
            "-20980112.458203 (62685700.492633) con: {'batch_size': 5, 'epochs': 10, 'nneuron': 24, 'optimizer': 'adam'}\n",
            "nan (nan) con: {'batch_size': 5, 'epochs': 10, 'nneuron': 24, 'optimizer': 'SGD'}\n",
            "-27123.974414 (2011.743558) con: {'batch_size': 5, 'epochs': 10, 'nneuron': 48, 'optimizer': 'rmsprop'}\n",
            "-3144355.934668 (6911760.380652) con: {'batch_size': 5, 'epochs': 10, 'nneuron': 48, 'optimizer': 'adam'}\n",
            "nan (nan) con: {'batch_size': 5, 'epochs': 10, 'nneuron': 48, 'optimizer': 'SGD'}\n",
            "-27239.770508 (2092.569125) con: {'batch_size': 5, 'epochs': 10, 'nneuron': 96, 'optimizer': 'rmsprop'}\n",
            "-7525931452.278906 (18667597397.731823) con: {'batch_size': 5, 'epochs': 10, 'nneuron': 96, 'optimizer': 'adam'}\n",
            "nan (nan) con: {'batch_size': 5, 'epochs': 10, 'nneuron': 96, 'optimizer': 'SGD'}\n"
          ],
          "name": "stdout"
        }
      ]
    },
    {
      "cell_type": "code",
      "metadata": {
        "id": "PWcXSW7-1Unl"
      },
      "source": [
        "-23039.342969 con {'batch_size': 5, 'epochs': 50, 'nneuron': 12, 'optimizer': 'rmsprop'}\n",
        "model = KerasRegressor(build_fn=create_model, epochs=50, batch_size=5, verbose=0)"
      ],
      "execution_count": null,
      "outputs": []
    },
    {
      "cell_type": "code",
      "metadata": {
        "colab": {
          "base_uri": "https://localhost:8080/"
        },
        "id": "H_rAXc7Ba0WX",
        "outputId": "db3d8180-d276-4308-a9d2-fcb0246a9de2"
      },
      "source": [
        "from sklearn import tree, ensemble\n",
        "from imblearn.under_sampling import RandomUnderSampler\n",
        "from imblearn.pipeline import make_pipeline\n",
        "from sklearn.multioutput import MultiOutputRegressor\n",
        "from sklearn.metrics import mean_squared_error\n",
        "\n",
        "forest = ensemble.RandomForestRegressor(max_depth=15, min_samples_leaf=5)\n",
        "ada_boost = MultiOutputRegressor(ensemble.AdaBoostRegressor())\n",
        "\n",
        "forest.fit(X_train, Y_train)\n",
        "ada_boost.fit(X_train, Y_train)\n",
        "\n",
        "print(forest.score(X_val, Y_val))\n",
        "predictions = forest.predict(X_val)\n",
        "print(mean_squared_error(Y_val, predictions))\n",
        "print(ada_boost.score(X_val, Y_val))"
      ],
      "execution_count": null,
      "outputs": [
        {
          "output_type": "stream",
          "text": [
            "0.930003804088907\n",
            "496.49449423236763\n",
            "0.8734110507568623\n"
          ],
          "name": "stdout"
        },
        {
          "output_type": "stream",
          "text": [
            "/usr/local/lib/python3.6/dist-packages/sklearn/base.py:434: FutureWarning: The default value of multioutput (not exposed in score method) will change from 'variance_weighted' to 'uniform_average' in 0.23 to keep consistent with 'metrics.r2_score'. To specify the default value manually and avoid the warning, please either call 'metrics.r2_score' directly or make a custom scorer with 'metrics.make_scorer' (the built-in scorer 'r2' uses multioutput='uniform_average').\n",
            "  \"multioutput='uniform_average').\", FutureWarning)\n"
          ],
          "name": "stderr"
        }
      ]
    }
  ]
}